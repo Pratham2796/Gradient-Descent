{
 "cells": [
  {
   "cell_type": "code",
   "execution_count": 12,
   "metadata": {},
   "outputs": [],
   "source": [
    "import pandas as pd\n",
    "import numpy as np\n",
    "import math"
   ]
  },
  {
   "cell_type": "code",
   "execution_count": 3,
   "metadata": {},
   "outputs": [],
   "source": [
    "data=pd.read_csv('test_scores.csv')"
   ]
  },
  {
   "cell_type": "code",
   "execution_count": 4,
   "metadata": {},
   "outputs": [
    {
     "data": {
      "text/html": [
       "<div>\n",
       "<style scoped>\n",
       "    .dataframe tbody tr th:only-of-type {\n",
       "        vertical-align: middle;\n",
       "    }\n",
       "\n",
       "    .dataframe tbody tr th {\n",
       "        vertical-align: top;\n",
       "    }\n",
       "\n",
       "    .dataframe thead th {\n",
       "        text-align: right;\n",
       "    }\n",
       "</style>\n",
       "<table border=\"1\" class=\"dataframe\">\n",
       "  <thead>\n",
       "    <tr style=\"text-align: right;\">\n",
       "      <th></th>\n",
       "      <th>name</th>\n",
       "      <th>math</th>\n",
       "      <th>cs</th>\n",
       "    </tr>\n",
       "  </thead>\n",
       "  <tbody>\n",
       "    <tr>\n",
       "      <th>0</th>\n",
       "      <td>david</td>\n",
       "      <td>92</td>\n",
       "      <td>98</td>\n",
       "    </tr>\n",
       "    <tr>\n",
       "      <th>1</th>\n",
       "      <td>laura</td>\n",
       "      <td>56</td>\n",
       "      <td>68</td>\n",
       "    </tr>\n",
       "    <tr>\n",
       "      <th>2</th>\n",
       "      <td>sanjay</td>\n",
       "      <td>88</td>\n",
       "      <td>81</td>\n",
       "    </tr>\n",
       "    <tr>\n",
       "      <th>3</th>\n",
       "      <td>wei</td>\n",
       "      <td>70</td>\n",
       "      <td>80</td>\n",
       "    </tr>\n",
       "    <tr>\n",
       "      <th>4</th>\n",
       "      <td>jeff</td>\n",
       "      <td>80</td>\n",
       "      <td>83</td>\n",
       "    </tr>\n",
       "    <tr>\n",
       "      <th>5</th>\n",
       "      <td>aamir</td>\n",
       "      <td>49</td>\n",
       "      <td>52</td>\n",
       "    </tr>\n",
       "    <tr>\n",
       "      <th>6</th>\n",
       "      <td>venkat</td>\n",
       "      <td>65</td>\n",
       "      <td>66</td>\n",
       "    </tr>\n",
       "    <tr>\n",
       "      <th>7</th>\n",
       "      <td>virat</td>\n",
       "      <td>35</td>\n",
       "      <td>30</td>\n",
       "    </tr>\n",
       "    <tr>\n",
       "      <th>8</th>\n",
       "      <td>arthur</td>\n",
       "      <td>66</td>\n",
       "      <td>68</td>\n",
       "    </tr>\n",
       "    <tr>\n",
       "      <th>9</th>\n",
       "      <td>paul</td>\n",
       "      <td>67</td>\n",
       "      <td>73</td>\n",
       "    </tr>\n",
       "  </tbody>\n",
       "</table>\n",
       "</div>"
      ],
      "text/plain": [
       "     name  math  cs\n",
       "0   david    92  98\n",
       "1   laura    56  68\n",
       "2  sanjay    88  81\n",
       "3     wei    70  80\n",
       "4    jeff    80  83\n",
       "5   aamir    49  52\n",
       "6  venkat    65  66\n",
       "7   virat    35  30\n",
       "8  arthur    66  68\n",
       "9    paul    67  73"
      ]
     },
     "execution_count": 4,
     "metadata": {},
     "output_type": "execute_result"
    }
   ],
   "source": [
    "data"
   ]
  },
  {
   "cell_type": "code",
   "execution_count": 7,
   "metadata": {},
   "outputs": [],
   "source": [
    "X=data[['math']]"
   ]
  },
  {
   "cell_type": "code",
   "execution_count": 9,
   "metadata": {},
   "outputs": [],
   "source": [
    "Y=data[['cs']]"
   ]
  },
  {
   "cell_type": "code",
   "execution_count": 11,
   "metadata": {},
   "outputs": [],
   "source": [
    "x=np.array(X)\n",
    "y=np.array(Y)"
   ]
  },
  {
   "cell_type": "code",
   "execution_count": 39,
   "metadata": {},
   "outputs": [],
   "source": [
    "def gradient_descent(x,y):\n",
    "    m_curr = b_curr = 0\n",
    "    cost_previous=0\n",
    "    n = len(x)\n",
    "    learning_rate = 0.08\n",
    "    iterations = 10000    \n",
    "    for i in range(iterations):\n",
    "            y_predicted = m_curr * x + b_curr\n",
    "            cost = (1/n) * sum([val**2 for val in (y-y_predicted)])\n",
    "            md = -(2/n)*sum(x*(y-y_predicted))\n",
    "            bd = -(2/n)*sum(y-y_predicted)\n",
    "            m_curr = m_curr - learning_rate * md\n",
    "            b_curr = b_curr - learning_rate * bd\n",
    "            if math.isclose(cost, cost_previous, rel_tol=1e-20):\n",
    "                break\n",
    "            cost_previous = cost\n",
    "            print (\"m {}, b {}, cost {} iteration {}\".format(m_curr,b_curr,cost, i))\n",
    "    return  m_curr,b_curr      "
   ]
  },
  {
   "cell_type": "code",
   "execution_count": 40,
   "metadata": {},
   "outputs": [
    {
     "name": "stdout",
     "output_type": "stream",
     "text": [
      "m [791.344], b [11.184], cost [5199.1] iteration 0\n",
      "m [-597932.445952], b [-8437.306112], cost [2.95790905e+09] iteration 1\n",
      "m [4.52390989e+08], b [6383625.8292009], cost [1.69319487e+15] iteration 2\n",
      "m [-3.42274867e+11], b [-4.82979263e+09], cost [9.69234969e+20] iteration 3\n",
      "m [2.58962021e+14], b [3.65417675e+12], cost [5.54818848e+26] iteration 4\n",
      "m [-1.95928287e+17], b [-2.76471657e+15], cost [3.17594767e+32] iteration 5\n",
      "m [1.48237543e+20], b [2.09175917e+18], cost [1.81800666e+38] iteration 6\n",
      "m [-1.12155164e+23], b [-1.58260578e+21], cost [1.04068094e+44] iteration 7\n",
      "m [8.48555668e+25], b [1.197385e+24], cost [5.95716641e+49] iteration 8\n",
      "m [-6.42009426e+28], b [-9.05930495e+26], cost [3.41005877e+55] iteration 9\n",
      "m [4.85738436e+31], b [6.85418693e+29], cost [1.95201879e+61] iteration 10\n",
      "m [-3.6750524e+34], b [-5.18581489e+32], cost [1.11739346e+67] iteration 11\n",
      "m [2.7805109e+37], b [3.92353992e+35], cost [6.39629165e+72] iteration 12\n",
      "m [-2.10370901e+40], b [-2.96851428e+38], cost [3.66142708e+78] iteration 13\n",
      "m [1.59164692e+43], b [2.24595064e+41], cost [2.09590947e+84] iteration 14\n",
      "m [-1.20422544e+46], b [-1.69926563e+44], cost [1.19976076e+90] iteration 15\n",
      "m [9.11105912e+48], b [1.28564877e+47], cost [6.86778647e+95] iteration 16\n",
      "m [-6.89334366e+51], b [-9.72710054e+49], cost [3.9313247e+101] iteration 17\n",
      "m [5.21544051e+54], b [7.35943494e+52], cost [2.25040688e+107] iteration 18\n",
      "m [-3.9459544e+57], b [-5.56808089e+55], cost [1.28819965e+113] iteration 19\n",
      "m [2.98547286e+60], b [4.21275887e+58], cost [7.37403695e+118] iteration 20\n",
      "m [-2.25878135e+63], b [-3.18733468e+61], cost [4.2211175e+124] iteration 21\n",
      "m [1.70897323e+66], b [2.41150815e+64], cost [2.41629287e+130] iteration 22\n",
      "m [-1.29299345e+69], b [-1.82452492e+67], cost [1.38315772e+136] iteration 23\n",
      "m [9.78266971e+71], b [1.3804188e+70], cost [7.91760507e+141] iteration 24\n",
      "m [-7.40147806e+74], b [-1.04441219e+73], cost [4.53227201e+147] iteration 25\n",
      "m [5.59989033e+77], b [7.90192669e+75], cost [2.59440695e+153] iteration 26\n",
      "m [-4.2368256e+80], b [-5.97852517e+78], cost [1.4851155e+159] iteration 27\n",
      "m [3.20554334e+83], b [4.52329724e+81], cost [8.50124165e+164] iteration 28\n",
      "m [-2.42528466e+86], b [-3.42228516e+84], cost [4.8663629e+170] iteration 29\n",
      "m [1.8349481e+89], b [2.58926952e+87], cost [2.78565048e+176] iteration 30\n",
      "m [-1.38830488e+92], b [-1.95901754e+90], cost [1.59458897e+182] iteration 31\n",
      "m [1.05037872e+95], b [1.48217468e+93], cost [9.12790029e+187] iteration 32\n",
      "m [-7.94706897e+97], b [-1.12139975e+96], cost [5.22508089e+193] iteration 33\n",
      "m [6.01267941e+100], b [8.48440756e+98], cost [2.9909913e+199] iteration 34\n",
      "m [-4.54913802e+103], b [-6.41922485e+101], cost [1.71213215e+205] iteration 35\n",
      "m [3.44183605e+106], b [4.85672657e+104], cost [9.8007523e+210] iteration 36\n",
      "m [-2.60406155e+109], b [-3.67455472e+107], cost [5.61024135e+216] iteration 37\n",
      "m [1.97020906e+112], b [2.78013436e+110], cost [3.21146857e+222] iteration 38\n",
      "m [-1.49064208e+115], b [-2.10342413e+113], cost [1.83833987e+228] iteration 39\n",
      "m [1.12780611e+118], b [1.59143138e+116], cost [1.05232028e+234] iteration 40\n",
      "m [-8.53287745e+120], b [-1.20406237e+119], cost [6.02379343e+239] iteration 41\n",
      "m [6.45589672e+123], b [9.10982529e+121], cost [3.44819805e+245] iteration 42\n",
      "m [-4.88447217e+126], b [-6.89241016e+124], cost [1.97385085e+251] iteration 43\n",
      "m [3.69554679e+129], b [5.21473423e+127], cost [1.12989078e+257] iteration 44\n",
      "m [-2.79601676e+132], b [-3.94542003e+130], cost [6.46783e+262] iteration 45\n",
      "m [2.11544061e+135], b [2.98506856e+133], cost [3.70237775e+268] iteration 46\n",
      "m [-1.60052294e+138], b [-2.25847546e+136], cost [2.11935085e+274] iteration 47\n",
      "m [1.21094096e+141], b [1.7087418e+139], cost [1.2131793e+280] iteration 48\n",
      "m [-9.16186808e+143], b [-1.29281835e+142], cost [6.94459818e+285] iteration 49\n",
      "m [6.93178525e+146], b [9.78134493e+144], cost [3.975294e+291] iteration 50\n",
      "m [-5.24452507e+149], b [-7.40047575e+147], cost [2.27557621e+297] iteration 51\n",
      "m [3.9679595e+152], b [5.59913199e+150], cost [1.30260733e+303] iteration 52\n",
      "m [-3.00212172e+155], b [-4.23625185e+153], cost [inf] iteration 53\n"
     ]
    },
    {
     "name": "stderr",
     "output_type": "stream",
     "text": [
      "<ipython-input-39-e77cc76288d7>:9: RuntimeWarning: overflow encountered in square\n",
      "  cost = (1/n) * sum([val**2 for val in (y-y_predicted)])\n"
     ]
    }
   ],
   "source": [
    "m,b=gradient_descent(x,y)"
   ]
  },
  {
   "cell_type": "code",
   "execution_count": 41,
   "metadata": {},
   "outputs": [
    {
     "data": {
      "text/plain": [
       "LinearRegression()"
      ]
     },
     "execution_count": 41,
     "metadata": {},
     "output_type": "execute_result"
    }
   ],
   "source": [
    "from sklearn.linear_model import LinearRegression\n",
    "Regressor=LinearRegression()\n",
    "Regressor.fit(x,y)\n"
   ]
  },
  {
   "cell_type": "code",
   "execution_count": 47,
   "metadata": {},
   "outputs": [
    {
     "name": "stdout",
     "output_type": "stream",
     "text": [
      "Using sklearn: Coef [[1.01773624]] Intercept [1.91521931]\n"
     ]
    }
   ],
   "source": [
    "print(\"Using sklearn: Coef {} Intercept {}\".format(Regressor.coef_,Regressor.intercept_))    "
   ]
  },
  {
   "cell_type": "code",
   "execution_count": 48,
   "metadata": {},
   "outputs": [
    {
     "name": "stdout",
     "output_type": "stream",
     "text": [
      "Using gradient descent function: Coef [2.27137773e+158] Intercept [3.20510925e+156]\n"
     ]
    }
   ],
   "source": [
    "print(\"Using gradient descent function: Coef {} Intercept {}\".format(m, b))"
   ]
  },
  {
   "cell_type": "code",
   "execution_count": null,
   "metadata": {},
   "outputs": [],
   "source": []
  }
 ],
 "metadata": {
  "kernelspec": {
   "display_name": "Python 3",
   "language": "python",
   "name": "python3"
  },
  "language_info": {
   "codemirror_mode": {
    "name": "ipython",
    "version": 3
   },
   "file_extension": ".py",
   "mimetype": "text/x-python",
   "name": "python",
   "nbconvert_exporter": "python",
   "pygments_lexer": "ipython3",
   "version": "3.8.3"
  }
 },
 "nbformat": 4,
 "nbformat_minor": 4
}
